{
 "cells": [
  {
   "cell_type": "markdown",
   "metadata": {},
   "source": [
    "# DeepFM 模型+源码讲解\n",
    "\n",
    "https://www.bilibili.com/video/BV1xC4y147za/\n",
    "\n",
    "# Wide&Deep 模型+源码讲解\n",
    "\n",
    "https://www.bilibili.com/video/BV1Ac411h7CA/\n",
    "\n",
    "# Deep&Cross network模型+源码讲解\n",
    "\n",
    "https://www.bilibili.com/video/BV1gg4y187XH/\n",
    "\n",
    "# xDeepFM模型+源码讲解\n",
    "\n",
    "https://www.bilibili.com/video/BV1Jt4y1y75r/"
   ]
  }
 ],
 "metadata": {
  "kernelspec": {
   "display_name": "Python [conda env:tf2.0]",
   "language": "python",
   "name": "conda-env-tf2.0-py"
  },
  "language_info": {
   "codemirror_mode": {
    "name": "ipython",
    "version": 3
   },
   "file_extension": ".py",
   "mimetype": "text/x-python",
   "name": "python",
   "nbconvert_exporter": "python",
   "pygments_lexer": "ipython3",
   "version": "3.6.2"
  },
  "toc": {
   "base_numbering": 1,
   "nav_menu": {},
   "number_sections": true,
   "sideBar": true,
   "skip_h1_title": false,
   "title_cell": "Table of Contents",
   "title_sidebar": "Contents",
   "toc_cell": false,
   "toc_position": {},
   "toc_section_display": true,
   "toc_window_display": false
  }
 },
 "nbformat": 4,
 "nbformat_minor": 2
}
